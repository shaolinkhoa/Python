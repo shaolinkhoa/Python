{
 "cells": [
  {
   "cell_type": "markdown",
   "metadata": {},
   "source": [
    "# Python Tricks 101🐍\n",
    "\n",
    "## Python tips which are relatively uncommon and are very useful.\n",
    "\n",
    "<i>Talk is cheap show me the code</i>"
   ]
  },
  {
   "cell_type": "markdown",
   "metadata": {},
   "source": [
    "### Swapping values"
   ]
  },
  {
   "cell_type": "code",
   "execution_count": 1,
   "metadata": {},
   "outputs": [
    {
     "name": "stdout",
     "output_type": "stream",
     "text": [
      "5 10\n",
      "10 5\n"
     ]
    }
   ],
   "source": [
    "a, b = 5, 10\n",
    "print(a,b)\n",
    "a, b = b, a\n",
    "print(a, b)"
   ]
  },
  {
   "cell_type": "markdown",
   "metadata": {},
   "source": [
    "### Create a single string from all the elements in list"
   ]
  },
  {
   "cell_type": "code",
   "execution_count": 3,
   "metadata": {},
   "outputs": [
    {
     "name": "stdout",
     "output_type": "stream",
     "text": [
      "Python is awesome!\n"
     ]
    }
   ],
   "source": [
    "a = ['Python ', 'is ', 'awesome!']\n",
    "print(''.join(a))"
   ]
  },
  {
   "cell_type": "markdown",
   "metadata": {},
   "source": [
    "### Find the most frequent value in a list"
   ]
  },
  {
   "cell_type": "code",
   "execution_count": 5,
   "metadata": {},
   "outputs": [
    {
     "name": "stdout",
     "output_type": "stream",
     "text": [
      "2\n",
      "[(2, 4), (1, 3), (3, 2)]\n"
     ]
    }
   ],
   "source": [
    "\"\"\"most frequent element in a list\"\"\"\n",
    "\n",
    "a = [1, 2, 3, 1, 2, 3, 2, 2, 4, 5, 1]\n",
    "print(max(set(a),key = a.count))\n",
    "\n",
    "\"\"\"using Counter from collections\"\"\"\n",
    "from collections import Counter\n",
    "cnt = Counter(a)\n",
    "print(cnt.most_common(3))"
   ]
  },
  {
   "cell_type": "markdown",
   "metadata": {},
   "source": [
    "### Checking if two words are anagrams"
   ]
  },
  {
   "cell_type": "code",
   "execution_count": 8,
   "metadata": {},
   "outputs": [
    {
     "data": {
      "text/plain": [
       "True"
      ]
     },
     "execution_count": 8,
     "metadata": {},
     "output_type": "execute_result"
    }
   ],
   "source": [
    "from collections import Counter\n",
    "str1 = 'elvis'\n",
    "str2 = 'lives'\n",
    "Counter(str1) == Counter(str2)"
   ]
  },
  {
   "cell_type": "markdown",
   "metadata": {},
   "source": [
    "### Reverse a string"
   ]
  },
  {
   "cell_type": "code",
   "execution_count": 9,
   "metadata": {},
   "outputs": [
    {
     "name": "stdout",
     "output_type": "stream",
     "text": [
      "zyxwvutsrqponmlkjihgfedcba\n",
      "z\n",
      "y\n",
      "x\n",
      "w\n",
      "v\n",
      "u\n",
      "t\n",
      "s\n",
      "r\n",
      "q\n",
      "p\n",
      "o\n",
      "n\n",
      "m\n",
      "l\n",
      "k\n",
      "j\n",
      "i\n",
      "h\n",
      "g\n",
      "f\n",
      "e\n",
      "d\n",
      "c\n",
      "b\n",
      "a\n",
      "987654321\n"
     ]
    }
   ],
   "source": [
    "\"\"\"reversing string with special case of slice step param\"\"\"\n",
    "\n",
    "a = 'abcdefghijklmnopqrstuvwxyz'\n",
    "print(a[::-1])\n",
    "\n",
    "\"\"\"iterating over string contents in reverse efficiently\"\"\"\n",
    "\n",
    "for char in reversed(a):\n",
    "    print(char)\n",
    "    \n",
    "\"\"\"reversing an integer through type conversion and slicing\"\"\"\n",
    "\n",
    "num = 123456789\n",
    "print(int(str(num)[::-1]))"
   ]
  },
  {
   "cell_type": "markdown",
   "metadata": {},
   "source": [
    "### Reversing a list"
   ]
  },
  {
   "cell_type": "code",
   "execution_count": 10,
   "metadata": {},
   "outputs": [
    {
     "name": "stdout",
     "output_type": "stream",
     "text": [
      "[1, 2, 3, 4, 5]\n",
      "1\n",
      "2\n",
      "3\n",
      "4\n",
      "5\n"
     ]
    }
   ],
   "source": [
    "\"\"\"reversing list with special case of slice step param\"\"\"\n",
    "\n",
    "a = [5, 4, 3, 2, 1]\n",
    "print(a[::-1])\n",
    "\n",
    "\"\"\"iterating over list contents in reverse efficiently\"\"\"\n",
    "\n",
    "for ele in reversed(a):\n",
    "    print(ele)"
   ]
  },
  {
   "cell_type": "markdown",
   "metadata": {},
   "source": [
    "### Transpose 2d array"
   ]
  },
  {
   "cell_type": "code",
   "execution_count": 11,
   "metadata": {},
   "outputs": [
    {
     "name": "stdout",
     "output_type": "stream",
     "text": [
      "[('a', 'c', 'e'), ('b', 'd', 'f')]\n"
     ]
    }
   ],
   "source": [
    "\"\"\"transpose 2d array [[a,b], [c,d], [e,f]] -> [[a,c,e], [b,d,f]]\"\"\"\n",
    "\n",
    "original = [['a', 'b'], ['c', 'd'], ['e', 'f']]\n",
    "transposed = zip(*original)\n",
    "print(list(transposed))"
   ]
  },
  {
   "cell_type": "markdown",
   "metadata": {},
   "source": [
    "### Chained Comparison"
   ]
  },
  {
   "cell_type": "code",
   "execution_count": 12,
   "metadata": {},
   "outputs": [
    {
     "name": "stdout",
     "output_type": "stream",
     "text": [
      "True\n",
      "False\n"
     ]
    }
   ],
   "source": [
    "\"\"\"chained comparison with all kind of operators\"\"\"\n",
    "\n",
    "b = 6\n",
    "print(4 < b < 7)\n",
    "print(1 == b < 20)"
   ]
  },
  {
   "cell_type": "markdown",
   "metadata": {},
   "source": [
    "### Chained function call"
   ]
  },
  {
   "cell_type": "code",
   "execution_count": 13,
   "metadata": {},
   "outputs": [
    {
     "name": "stdout",
     "output_type": "stream",
     "text": [
      "35\n"
     ]
    }
   ],
   "source": [
    "\"\"\"calling different functions with same arguements based on condition\"\"\"\n",
    "\n",
    "def product(a, b):\n",
    "    return a * b\n",
    "\n",
    "def add(a, b):\n",
    "    return a + b\n",
    "\n",
    "b = True\n",
    "print((product if b else add)(5, 7))"
   ]
  },
  {
   "cell_type": "markdown",
   "metadata": {},
   "source": [
    "### Copying a list"
   ]
  },
  {
   "cell_type": "code",
   "execution_count": 14,
   "metadata": {},
   "outputs": [
    {
     "name": "stdout",
     "output_type": "stream",
     "text": [
      "[1, 2, 3, 4, 5]\n",
      "[1, 2, 3, 4, 5]\n",
      "[[1, 2], [3, 4]]\n"
     ]
    }
   ],
   "source": [
    "\"\"\"a fast way to make a shallow copy of a list\"\"\"\n",
    "\n",
    "b = a\n",
    "b[0] = 10\n",
    "\"\"\"both a and b will be [10, 2, 3, 4, 5]\"\"\"\n",
    "\n",
    "b = a[:]\n",
    "b[0] = 10\n",
    "\"\"\"only b will change to [10, 2, 3, 4, 5]\"\"\"\n",
    "\n",
    "\"\"\"copy a list by typecasting method\"\"\"\n",
    "\n",
    "a = [1, 2, 3, 4, 5]\n",
    "print(list(a))\n",
    "\n",
    "\"\"\"using the list.copy() method (python 3 only)\"\"\"\n",
    "\n",
    "a = [1, 2, 3, 4, 5]\n",
    "print(a.copy())\n",
    "\n",
    "\"\"\"copy nested lists using copy.deepcopy\"\"\"\n",
    "\n",
    "from copy import deepcopy\n",
    "n = [[1, 2], [3, 4]]\n",
    "n2 = deepcopy(n)\n",
    "print(n2)"
   ]
  },
  {
   "cell_type": "markdown",
   "metadata": {},
   "source": [
    "### Dictionary get"
   ]
  },
  {
   "cell_type": "code",
   "execution_count": 15,
   "metadata": {},
   "outputs": [
    {
     "name": "stdout",
     "output_type": "stream",
     "text": [
      "3\n"
     ]
    }
   ],
   "source": [
    "\"\"\"returning None or default value, when key is not in dict\"\"\"\n",
    "\n",
    "d = {'a': 1, 'b': 2}\n",
    "print(d.get('c',3))"
   ]
  },
  {
   "cell_type": "markdown",
   "metadata": {},
   "source": [
    "### Sort Dictionary by value"
   ]
  },
  {
   "cell_type": "code",
   "execution_count": 16,
   "metadata": {},
   "outputs": [
    {
     "name": "stdout",
     "output_type": "stream",
     "text": [
      "[('rotten tomato', 1), ('banana', 5), ('apple', 18), ('orange', 20)]\n",
      "[('rotten tomato', 1), ('banana', 5), ('apple', 18), ('orange', 20)]\n",
      "['rotten tomato', 'banana', 'apple', 'orange']\n"
     ]
    }
   ],
   "source": [
    "\"\"\"sort a dictionary by it's values with built-in sorted() function and a 'key' arguement\"\"\"\n",
    "\n",
    "d = {'apple': 18, 'orange': 20, 'banana': 5, 'rotten tomato': 1}\n",
    "print(sorted(d.items(), key = lambda x: x[1]))\n",
    "\n",
    "\"\"\"sort using operator.itemgetter as the sort key instead of a lambda\"\"\"\n",
    "\n",
    "from operator import itemgetter\n",
    "print(sorted(d.items(), key = itemgetter(1)))\n",
    "\n",
    "\"\"\"sorted dict keys by value\"\"\"\n",
    "\n",
    "print(sorted(d, key = d.get))"
   ]
  },
  {
   "cell_type": "markdown",
   "metadata": {},
   "source": [
    "### For Else"
   ]
  },
  {
   "cell_type": "code",
   "execution_count": 17,
   "metadata": {},
   "outputs": [
    {
     "name": "stdout",
     "output_type": "stream",
     "text": [
      "did not break out of for loop\n"
     ]
    }
   ],
   "source": [
    "\"\"\"else gets called when for loop does not reach break statement\"\"\"\n",
    "\n",
    "a = [1, 2, 3, 4, 5]\n",
    "for el in a:\n",
    "    if el ==0:\n",
    "        break    \n",
    "else:\n",
    "    print('did not break out of for loop')"
   ]
  },
  {
   "cell_type": "markdown",
   "metadata": {},
   "source": [
    "### Convert list to comma separated"
   ]
  },
  {
   "cell_type": "code",
   "execution_count": 19,
   "metadata": {},
   "outputs": [
    {
     "name": "stdout",
     "output_type": "stream",
     "text": [
      "foo, bar, xyz\n",
      "2, 3, 5, 10\n",
      "2, hello, 3, 3.14\n"
     ]
    }
   ],
   "source": [
    "\"\"\"converts list to comma separated string\"\"\"\n",
    "\n",
    "items = ['foo', 'bar', 'xyz']\n",
    "print(', '.join(items))\n",
    "\n",
    "\"\"\"list of numbers to comma separated\"\"\"\n",
    "\n",
    "numbers = [2, 3, 5, 10]\n",
    "print(', '.join(map(str, numbers)))\n",
    "\n",
    "\"\"\"list of mixed data\"\"\"\n",
    "\n",
    "data = [2, 'hello', 3, 3.14]\n",
    "print(', '.join(map(str,data)))"
   ]
  },
  {
   "cell_type": "markdown",
   "metadata": {},
   "source": [
    "### Merge dict's"
   ]
  },
  {
   "cell_type": "code",
   "execution_count": 21,
   "metadata": {},
   "outputs": [
    {
     "name": "stdout",
     "output_type": "stream",
     "text": [
      "{'a': 1, 'b': 2}\n",
      "{'b': 2, 'a': 1}\n",
      "{'a': 1, 'b': 2}\n"
     ]
    }
   ],
   "source": [
    "\"\"\"merge dict's\"\"\"\n",
    "\n",
    "d1 = {'a': 1}\n",
    "d2 = {'b': 2}\n",
    "\n",
    "#python 3.5\n",
    "print({**d1, **d2})\n",
    "print(dict(d1.items() | d2.items()))\n",
    "\n",
    "d1.update(d2)\n",
    "print(d1)"
   ]
  },
  {
   "cell_type": "markdown",
   "metadata": {},
   "source": [
    "### Min and Max index in list"
   ]
  },
  {
   "cell_type": "code",
   "execution_count": 24,
   "metadata": {},
   "outputs": [
    {
     "name": "stdout",
     "output_type": "stream",
     "text": [
      "1\n",
      "0\n"
     ]
    }
   ],
   "source": [
    "\"\"\"find index of min/max element\"\"\"\n",
    "\n",
    "lst = [40, 10, 20, 30]\n",
    "print(lst.index(min(lst)))\n",
    "print(lst.index(max(lst)))"
   ]
  },
  {
   "cell_type": "markdown",
   "metadata": {},
   "source": [
    "### Remove duplicates from a list"
   ]
  },
  {
   "cell_type": "code",
   "execution_count": 25,
   "metadata": {},
   "outputs": [
    {
     "name": "stdout",
     "output_type": "stream",
     "text": [
      "[1, 2, 3]\n",
      "['foo', 'bar']\n"
     ]
    }
   ],
   "source": [
    "\"\"\"remove duplicate items from list. note: does not preserve the original list order\"\"\"\n",
    "\n",
    "items = [2, 2, 3, 3, 1]\n",
    "\n",
    "new_items = list(set(items))\n",
    "print(new_items)\n",
    "\n",
    "\"\"\"remove duplicates and keep order\"\"\"\n",
    "\n",
    "from collections import OrderedDict\n",
    "\n",
    "items = ['foo', 'bar', 'bar', 'foo']\n",
    "print(list(OrderedDict.fromkeys(items).keys()))"
   ]
  },
  {
   "cell_type": "code",
   "execution_count": null,
   "metadata": {},
   "outputs": [],
   "source": []
  }
 ],
 "metadata": {
  "kernelspec": {
   "display_name": "Python 3",
   "language": "python",
   "name": "python3"
  },
  "language_info": {
   "codemirror_mode": {
    "name": "ipython",
    "version": 3
   },
   "file_extension": ".py",
   "mimetype": "text/x-python",
   "name": "python",
   "nbconvert_exporter": "python",
   "pygments_lexer": "ipython3",
   "version": "3.7.0"
  }
 },
 "nbformat": 4,
 "nbformat_minor": 2
}
